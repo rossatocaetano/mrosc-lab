{
 "cells": [
  {
   "cell_type": "markdown",
   "id": "9936a277",
   "metadata": {},
   "source": [
    "# PRESTAÇÃO DE CONTAS DA EXECUÇÃO DO OBJETO"
   ]
  },
  {
   "cell_type": "code",
   "execution_count": null,
   "id": "180678ce",
   "metadata": {},
   "outputs": [],
   "source": [
    "import pandas as pd"
   ]
  },
  {
   "cell_type": "markdown",
   "id": "0aca580a",
   "metadata": {},
   "source": [
    "## Importando os dados"
   ]
  },
  {
   "cell_type": "code",
   "execution_count": null,
   "id": "6eea4c51",
   "metadata": {},
   "outputs": [],
   "source": [
    "data_path = '01_Indicativos_fablab.csv'\n",
    "months = ['Abr', 'Mai', 'Jun']"
   ]
  },
  {
   "cell_type": "markdown",
   "id": "dc6754ad",
   "metadata": {},
   "source": []
  },
  {
   "cell_type": "code",
   "execution_count": null,
   "id": "7d64082c",
   "metadata": {},
   "outputs": [],
   "source": [
    "data_df = pd.read_csv(data_path, sep=';', header=0, encoding='latin-1')\n",
    "display(data_df)"
   ]
  },
  {
   "cell_type": "markdown",
   "id": "7c49a7c0",
   "metadata": {},
   "source": [
    "## Filtrando os dados"
   ]
  },
  {
   "cell_type": "markdown",
   "id": "a132d562",
   "metadata": {},
   "source": [
    "### Filtrando os meses a serem analisados"
   ]
  },
  {
   "cell_type": "code",
   "execution_count": null,
   "id": "b83bf4fd",
   "metadata": {},
   "outputs": [],
   "source": [
    "filter_dates_df = data_df['Mês'].isin(months)\n",
    "filter_dates_df"
   ]
  },
  {
   "cell_type": "code",
   "execution_count": null,
   "id": "891a11a1",
   "metadata": {},
   "outputs": [],
   "source": [
    "pd.set_option('display.max_rows', None)\n",
    "\n",
    "trimester_data_df = data_df[filter_dates_df]\n",
    "trimester_data_df"
   ]
  },
  {
   "cell_type": "markdown",
   "id": "e9ea939f",
   "metadata": {},
   "source": [
    "### Filtrando os dados por indicadores"
   ]
  },
  {
   "cell_type": "code",
   "execution_count": null,
   "id": "d7757487",
   "metadata": {},
   "outputs": [],
   "source": [
    "# creating list of indicator\n",
    "indicators=[]\n",
    "for x in range(31):\n",
    "    indicators.append(f'n°{x+1:02d}')\n",
    "\n",
    "indicators"
   ]
  },
  {
   "cell_type": "code",
   "execution_count": null,
   "id": "b0d63d32",
   "metadata": {},
   "outputs": [],
   "source": [
    "filter_indicators_df = trimester_data_df['Indicador'].isin(indicators)\n",
    "filter_indicators_df"
   ]
  },
  {
   "cell_type": "code",
   "execution_count": null,
   "id": "a77b110f",
   "metadata": {},
   "outputs": [],
   "source": [
    "filter_indicators_df2 = trimester_data_df.groupby(['Indicador','Unidade']).sum()\n",
    "\n",
    "parameter_to_div = ['Ano', 'Meta mínima', 'Meta total do indicador']\n",
    "for p in parameter_to_div:\n",
    "    filter_indicators_df2[p] = filter_indicators_df2[p].div(3);\n",
    "\n",
    "filter_indicators_df2"
   ]
  }
 ],
 "metadata": {
  "kernelspec": {
   "display_name": "Python 3 (ipykernel)",
   "language": "python",
   "name": "python3"
  },
  "language_info": {
   "codemirror_mode": {
    "name": "ipython",
    "version": 3
   },
   "file_extension": ".py",
   "mimetype": "text/x-python",
   "name": "python",
   "nbconvert_exporter": "python",
   "pygments_lexer": "ipython3",
   "version": "3.10.1"
  }
 },
 "nbformat": 4,
 "nbformat_minor": 5
}
