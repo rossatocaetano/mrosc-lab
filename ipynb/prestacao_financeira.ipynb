{
 "cells": [
  {
   "cell_type": "markdown",
   "id": "265da7fe",
   "metadata": {
    "id": "265da7fe"
   },
   "source": [
    "# PRESTAÇÃO DE CONTAS FINANCEIRA"
   ]
  },
  {
   "cell_type": "code",
   "execution_count": null,
   "id": "b84bd536",
   "metadata": {
    "id": "b84bd536"
   },
   "outputs": [],
   "source": [
    "import pandas as pd"
   ]
  },
  {
   "cell_type": "markdown",
   "id": "VlPQ8484Aadg",
   "metadata": {
    "id": "VlPQ8484Aadg"
   },
   "source": [
    "## CONFIGURAÇÃO"
   ]
  },
  {
   "cell_type": "markdown",
   "id": "600150d2",
   "metadata": {
    "id": "600150d2"
   },
   "source": [
    "### Inserir dados nas variáveis do trimestre que será tratado nesta prestação de contas"
   ]
  },
  {
   "cell_type": "code",
   "execution_count": null,
   "id": "87efbcc2",
   "metadata": {
    "id": "87efbcc2"
   },
   "outputs": [],
   "source": [
    "months = ['4.abril.2022', '5.maio.2022', '6.junho.2022']\n",
    "pf_schedule_path = 'pf_shedule.csv'\n",
    "data_path = '3tri_Prestação-de-Contas.csv'"
   ]
  },
  {
   "cell_type": "markdown",
   "id": "63nkUq7lBG2R",
   "metadata": {
    "id": "63nkUq7lBG2R"
   },
   "source": [
    "## IMPORTANDO E TRATANDO OS DADOS"
   ]
  },
  {
   "cell_type": "markdown",
   "id": "15569002",
   "metadata": {
    "id": "15569002"
   },
   "source": [
    "#### Importar Cronograma Físico-Financeiro"
   ]
  },
  {
   "cell_type": "code",
   "execution_count": null,
   "id": "de80eb6b",
   "metadata": {
    "id": "de80eb6b"
   },
   "outputs": [],
   "source": [
    "pf_schedule_df = pd.read_csv(pf_schedule_path, sep=',', header=0, encoding='utf-8')\n",
    "pf_schedule_df = pf_schedule_df.fillna(0)"
   ]
  },
  {
   "cell_type": "markdown",
   "id": "d6db7bb3",
   "metadata": {
    "id": "d6db7bb3"
   },
   "source": [
    "#### Tratar Cronograma Físico-Financeiro"
   ]
  },
  {
   "cell_type": "code",
   "execution_count": null,
   "id": "1a406cd6",
   "metadata": {
    "id": "1a406cd6"
   },
   "outputs": [],
   "source": [
    "pfs_df_filter = pf_schedule_df['MÊS'].isin(months)\n",
    "pfs_df = pf_schedule_df[pfs_df_filter]\n",
    "analitics_pfs_df = pfs_df[['RUBRICA', 'VALOR', 'MÊS']].groupby(['RUBRICA', 'MÊS']).sum()"
   ]
  },
  {
   "cell_type": "markdown",
   "id": "90e127f4",
   "metadata": {
    "id": "90e127f4"
   },
   "source": [
    "#### Importar Data Frame que será analisado"
   ]
  },
  {
   "cell_type": "code",
   "execution_count": null,
   "id": "af83a07e",
   "metadata": {
    "id": "af83a07e",
    "scrolled": true
   },
   "outputs": [],
   "source": [
    "fablab_df = pd.read_csv(data_path, sep=';', header=0, encoding='latin-1')\n",
    "fablab_df = fablab_df.fillna(0)"
   ]
  },
  {
   "cell_type": "markdown",
   "id": "58e2cd7f",
   "metadata": {
    "id": "58e2cd7f"
   },
   "source": [
    "#### Tratar o executado por rubrica por mês"
   ]
  },
  {
   "cell_type": "code",
   "execution_count": null,
   "id": "23ba7d3e",
   "metadata": {
    "colab": {
     "base_uri": "https://localhost:8080/",
     "height": 771
    },
    "id": "23ba7d3e",
    "outputId": "4d5765db-5a84-492d-e4d5-34b730a45fe0"
   },
   "outputs": [],
   "source": [
    "budget_lines = fablab_df[['RUBRICA', 'VALOR', 'MÊS']].groupby(['RUBRICA', 'MÊS']).sum()\n",
    "view_budget_lines = budget_lines.pivot_table(index='RUBRICA', columns='MÊS', values='VALOR')\n",
    "\n",
    "display(budget_lines)"
   ]
  },
  {
   "cell_type": "markdown",
   "id": "2addbfe1",
   "metadata": {
    "id": "2addbfe1"
   },
   "source": [
    "## ANALISANDO OS RESULTADOS"
   ]
  },
  {
   "cell_type": "code",
   "execution_count": null,
   "id": "42376339",
   "metadata": {
    "colab": {
     "base_uri": "https://localhost:8080/",
     "height": 424
    },
    "id": "42376339",
    "outputId": "fd820ccd-13ad-4a6a-e656-1690f8b1a260"
   },
   "outputs": [],
   "source": [
    "display(fablab_df)"
   ]
  },
  {
   "cell_type": "markdown",
   "id": "2KkLLtyR_FuE",
   "metadata": {
    "id": "2KkLLtyR_FuE"
   },
   "source": [
    "### Diferença por mês"
   ]
  },
  {
   "cell_type": "code",
   "execution_count": null,
   "id": "kYmyazVbOkzx",
   "metadata": {
    "colab": {
     "base_uri": "https://localhost:8080/",
     "height": 865
    },
    "id": "kYmyazVbOkzx",
    "outputId": "8795a368-8263-4190-bd79-e81c1192be75"
   },
   "outputs": [],
   "source": [
    "result_df = analitics_pfs_df.merge(budget_lines, on=['RUBRICA', 'MÊS'], how='outer')\n",
    "result_df.rename(columns={'VALOR_x' : 'PREVISTO', 'VALOR_y' : 'EXECUTADO'}, inplace=True)\n",
    "\n",
    "result_df = result_df.fillna(0)\n",
    "\n",
    "result_df = result_df.drop(['8.REPASSE'], axis=0)\n",
    "result_df['DIFERENCA'] = result_df['PREVISTO'] - result_df['EXECUTADO']\n",
    "\n",
    "result_df = result_df[['PREVISTO', 'EXECUTADO', 'DIFERENCA']]\n",
    "display(result_df)"
   ]
  },
  {
   "cell_type": "code",
   "execution_count": null,
   "id": "hT732ezcdaki",
   "metadata": {
    "colab": {
     "base_uri": "https://localhost:8080/",
     "height": 318
    },
    "id": "hT732ezcdaki",
    "outputId": "a723d7af-49ae-467e-9de3-360506355815"
   },
   "outputs": [],
   "source": [
    "month_result_df = result_df.pivot_table(index='RUBRICA', columns='MÊS')\n",
    "month_result_df = month_result_df[['PREVISTO', 'EXECUTADO', 'DIFERENCA']]\n",
    "month_result_df = month_result_df.fillna(0)\n",
    "display(month_result_df)"
   ]
  },
  {
   "cell_type": "markdown",
   "id": "cec99d6d",
   "metadata": {
    "id": "cec99d6d"
   },
   "source": [
    "### Diferença por trimestre"
   ]
  },
  {
   "cell_type": "code",
   "execution_count": null,
   "id": "Gye3Miu7dlVk",
   "metadata": {
    "colab": {
     "base_uri": "https://localhost:8080/",
     "height": 394
    },
    "id": "Gye3Miu7dlVk",
    "outputId": "fcc0b458-2f6f-43fe-f71b-e71a22469550"
   },
   "outputs": [],
   "source": [
    "tri_result_df = result_df.groupby('RUBRICA').sum()\n",
    "tri_result_df.loc['TOTAL'] = tri_result_df.sum(axis=0)\n",
    "display(tri_result_df)"
   ]
  },
  {
   "cell_type": "markdown",
   "id": "5f8c0e42",
   "metadata": {
    "id": "5f8c0e42"
   },
   "source": [
    "### Diferença por nota de empenho"
   ]
  },
  {
   "cell_type": "code",
   "execution_count": null,
   "id": "0331c50b",
   "metadata": {
    "colab": {
     "base_uri": "https://localhost:8080/",
     "height": 129
    },
    "id": "0331c50b",
    "outputId": "fe6294b8-904a-4944-84b3-ed210eebcaea"
   },
   "outputs": [],
   "source": [
    "funds_city_df = pd.DataFrame()\n",
    "human_resources_df = tri_result_df.loc['1.RH'] \n",
    "\n",
    "other_expenses = tri_result_df.loc[['2.INSUMOS', '3.COMUNICAÇÃO', '4.SEGUROS', \n",
    "                          '5.CONTABILIDADE', '6.DESTINAÇÃO DE RESÍDUOS', '7.MANUTENÇÃO CORRETIVA', 'JUROS']].sum()\n",
    "\n",
    "funds_city_df['1.RH'] = human_resources_df\n",
    "funds_city_df['2.DEMAIS DESPESAS'] = other_expenses\n",
    "\n",
    "display(funds_city_df.columns)\n",
    "\n",
    "funds_city_df = funds_city_df.reset_index()\n",
    "funds_city_df.rename(columns={'index': 'RUBRICA'}, inplace = True)\n",
    "\n",
    "pivot_fund_city_df = pd.pivot_table(funds_city_df, columns='RUBRICA')\n",
    "\n",
    "pivot_fund_city_df = pivot_fund_city_df[['PREVISTO', 'EXECUTADO', 'DIFERENCA']]\n",
    "\n",
    "display(pivot_fund_city_df)"
   ]
  },
  {
   "cell_type": "markdown",
   "id": "W0jbaF10C6A0",
   "metadata": {
    "id": "W0jbaF10C6A0"
   },
   "source": [
    "## RELATÓRIO"
   ]
  },
  {
   "cell_type": "markdown",
   "id": "N8i8JvNnFhZ3",
   "metadata": {
    "id": "N8i8JvNnFhZ3"
   },
   "source": [
    "Trata o presente da análise da prestação de contas do Termo de Colaboração nº 01/SMIT/2021, conforme estabelecida na lei nº 13.019/2014 e no Decreto Municipal nº 57.575/2016.\n",
    "\n",
    "Valores executados pela OSC no trimestre:\n",
    "\n",
    "\n"
   ]
  },
  {
   "cell_type": "code",
   "execution_count": null,
   "id": "7_lsoOaKHdgf",
   "metadata": {
    "colab": {
     "base_uri": "https://localhost:8080/",
     "height": 394
    },
    "id": "7_lsoOaKHdgf",
    "outputId": "9ed51bb5-7a9d-4fa7-cf30-d601f9980e17"
   },
   "outputs": [],
   "source": [
    "view_budget_lines"
   ]
  },
  {
   "cell_type": "markdown",
   "id": "2CSnngfJFhJ_",
   "metadata": {
    "id": "2CSnngfJFhJ_"
   },
   "source": [
    "Estimou-se a diferença do previsto no plano de trabalho e o executado, por rubrica detalhada e por mês."
   ]
  },
  {
   "cell_type": "code",
   "execution_count": null,
   "id": "w-Sk5Zd7IDhw",
   "metadata": {
    "colab": {
     "base_uri": "https://localhost:8080/",
     "height": 394
    },
    "id": "w-Sk5Zd7IDhw",
    "outputId": "abd3d4d8-5856-4859-dc0d-2a296cb72a0e"
   },
   "outputs": [],
   "source": [
    "month_result_df"
   ]
  },
  {
   "cell_type": "markdown",
   "id": "ImQqsc7xIqvG",
   "metadata": {
    "id": "ImQqsc7xIqvG"
   },
   "source": [
    "Os valores foram consolidados para aferir a diferença entre o previsto no plano de trabalho e o executado por rubrica detalhada no trimestre"
   ]
  },
  {
   "cell_type": "code",
   "execution_count": null,
   "id": "Hb2Z0L9RI5zv",
   "metadata": {
    "colab": {
     "base_uri": "https://localhost:8080/",
     "height": 394
    },
    "id": "Hb2Z0L9RI5zv",
    "outputId": "7e975e9d-ed9b-4726-f62c-c86ed9cc5dec"
   },
   "outputs": [],
   "source": [
    "tri_result_df"
   ]
  },
  {
   "cell_type": "markdown",
   "id": "JbyqrAfiJfNy",
   "metadata": {
    "id": "JbyqrAfiJfNy"
   },
   "source": [
    "Por fim, consta o valor consolidado por rubrica, categorizado conforme disposto nas notas de empenho e no cronograma físico-financeiro"
   ]
  },
  {
   "cell_type": "code",
   "execution_count": null,
   "id": "EeLmrc0VJzyf",
   "metadata": {
    "colab": {
     "base_uri": "https://localhost:8080/",
     "height": 112
    },
    "id": "EeLmrc0VJzyf",
    "outputId": "a74ac4bd-59ce-41ee-ed2e-fa2c2f416299"
   },
   "outputs": [],
   "source": [
    "pivot_fund_city_df"
   ]
  }
 ],
 "metadata": {
  "colab": {
   "collapsed_sections": [],
   "provenance": []
  },
  "kernelspec": {
   "display_name": "Python 3 (ipykernel)",
   "language": "python",
   "name": "python3"
  },
  "language_info": {
   "codemirror_mode": {
    "name": "ipython",
    "version": 3
   },
   "file_extension": ".py",
   "mimetype": "text/x-python",
   "name": "python",
   "nbconvert_exporter": "python",
   "pygments_lexer": "ipython3",
   "version": "3.10.1"
  }
 },
 "nbformat": 4,
 "nbformat_minor": 5
}
